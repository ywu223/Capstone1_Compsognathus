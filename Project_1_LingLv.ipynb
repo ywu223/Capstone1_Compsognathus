{
 "cells": [
  {
   "cell_type": "code",
   "execution_count": 34,
   "id": "716c3b39",
   "metadata": {},
   "outputs": [],
   "source": [
    "# import dependencies\n",
    "import pandas as pd\n",
    "import matplotlib.pyplot as plt\n",
    "import os\n",
    "import scipy.stats as sts\n",
    "import seaborn as sns"
   ]
  },
  {
   "cell_type": "code",
   "execution_count": 2,
   "id": "0c1ab202",
   "metadata": {},
   "outputs": [],
   "source": [
    "#load data\n",
    "life = os.path.join('DataSets', 'life_expectancy_at_birth.csv')\n",
    "pop = os.path.join('DataSets', 'population_by_education_level.csv')\n",
    "eu = os.path.join('DataSets', 'EU_Country_Codes.csv')\n",
    "\n",
    "life_df = pd.read_csv(life)\n",
    "life_df = life_df.dropna()\n",
    "\n",
    "pop_df = pd.read_csv(pop)\n",
    "pop_df = pop_df.dropna()\n",
    "\n",
    "eu_df = pd.read_csv(eu,names=['geography','country'], header = None)"
   ]
  },
  {
   "cell_type": "code",
   "execution_count": 3,
   "id": "46cbe971",
   "metadata": {
    "scrolled": true
   },
   "outputs": [
    {
     "data": {
      "text/plain": [
       "array(['AT', 'BE', 'BG', 'CH', 'CY', 'CZ', 'DE', 'DK', 'EE', 'EL', 'ES',\n",
       "       'EU27_2020', 'EU28', 'FI', 'FR', 'HR', 'HU', 'IE', 'IS', 'IT',\n",
       "       'LT', 'LU', 'LV', 'MT', 'NL', 'NO', 'PL', 'PT', 'RO', 'SE', 'SI',\n",
       "       'SK', 'UK'], dtype=object)"
      ]
     },
     "execution_count": 3,
     "metadata": {},
     "output_type": "execute_result"
    }
   ],
   "source": [
    "life_df['geography'].unique()"
   ]
  },
  {
   "cell_type": "code",
   "execution_count": 4,
   "id": "143db216",
   "metadata": {},
   "outputs": [],
   "source": [
    "life_df = life_df.drop(life_df[life_df['geography']=='EU27_2020'].index)\n",
    "life_df = life_df.drop(life_df[life_df['geography']=='EU28'].index)"
   ]
  },
  {
   "cell_type": "code",
   "execution_count": 5,
   "id": "ac2bec5c",
   "metadata": {},
   "outputs": [
    {
     "data": {
      "text/plain": [
       "array(['F', 'M'], dtype=object)"
      ]
     },
     "execution_count": 5,
     "metadata": {},
     "output_type": "execute_result"
    }
   ],
   "source": [
    "life_df['sex'].unique()"
   ]
  },
  {
   "cell_type": "code",
   "execution_count": 6,
   "id": "4974439c",
   "metadata": {},
   "outputs": [
    {
     "data": {
      "text/plain": [
       "array(['AT', 'BE', 'BG', 'CH', 'CY', 'CZ', 'DE', 'DK', 'EA19', 'EE', 'EL',\n",
       "       'ES', 'EU27_2020', 'FI', 'FR', 'HR', 'HU', 'IE', 'IS', 'IT', 'LT',\n",
       "       'LU', 'LV', 'ME', 'MK', 'MT', 'NL', 'NO', 'PL', 'PT', 'RO', 'RS',\n",
       "       'SE', 'SI', 'SK', 'TR', 'EU15', 'EU28', 'UK'], dtype=object)"
      ]
     },
     "execution_count": 6,
     "metadata": {},
     "output_type": "execute_result"
    }
   ],
   "source": [
    "pop_df['geography'].unique()"
   ]
  },
  {
   "cell_type": "code",
   "execution_count": 7,
   "id": "a8e03685",
   "metadata": {},
   "outputs": [],
   "source": [
    "pop_df = pop_df.drop(pop_df[pop_df['geography']=='EU27_2020'].index)\n",
    "pop_df = pop_df.drop(pop_df[pop_df['geography']=='EU28'].index)\n",
    "pop_df = pop_df.drop(pop_df[pop_df['geography']=='EU15'].index)"
   ]
  },
  {
   "cell_type": "code",
   "execution_count": 8,
   "id": "fceee893",
   "metadata": {},
   "outputs": [
    {
     "data": {
      "text/plain": [
       "array(['AT', 'BE', 'BG', 'CH', 'CY', 'CZ', 'DE', 'DK', 'EA19', 'EE', 'EL',\n",
       "       'ES', 'FI', 'FR', 'HR', 'HU', 'IE', 'IS', 'IT', 'LT', 'LU', 'LV',\n",
       "       'ME', 'MK', 'MT', 'NL', 'NO', 'PL', 'PT', 'RO', 'RS', 'SE', 'SI',\n",
       "       'SK', 'TR', 'UK'], dtype=object)"
      ]
     },
     "execution_count": 8,
     "metadata": {},
     "output_type": "execute_result"
    }
   ],
   "source": [
    "pop_df['geography'].unique()"
   ]
  },
  {
   "cell_type": "code",
   "execution_count": 9,
   "id": "56600ad1",
   "metadata": {},
   "outputs": [
    {
     "data": {
      "text/plain": [
       "array(['F', 'M', 'T'], dtype=object)"
      ]
     },
     "execution_count": 9,
     "metadata": {},
     "output_type": "execute_result"
    }
   ],
   "source": [
    "pop_df['sex'].unique()"
   ]
  },
  {
   "cell_type": "code",
   "execution_count": 10,
   "id": "88c3692b",
   "metadata": {},
   "outputs": [
    {
     "data": {
      "text/plain": [
       "array(['F', 'M'], dtype=object)"
      ]
     },
     "execution_count": 10,
     "metadata": {},
     "output_type": "execute_result"
    }
   ],
   "source": [
    "# drop rows with sex ==T\n",
    "pop_df = pop_df.drop(pop_df[pop_df['sex']=='T'].index)\n",
    "pop_df['sex'].unique()"
   ]
  },
  {
   "cell_type": "code",
   "execution_count": 11,
   "id": "63556993",
   "metadata": {},
   "outputs": [],
   "source": [
    "# drop rows with geography ==Total\n",
    "pop_df = pop_df.drop(pop_df[pop_df['isced11']=='TOTAL'].index)"
   ]
  },
  {
   "cell_type": "code",
   "execution_count": 12,
   "id": "73e78759",
   "metadata": {},
   "outputs": [
    {
     "data": {
      "text/plain": [
       "array([2020, 2019, 2018, 2017, 2016, 2015, 2014, 2013, 2012, 2011, 2010,\n",
       "       2009, 2008, 2007, 2006, 2005, 2004, 2003, 2002, 2001, 2000, 1999,\n",
       "       1998, 1997, 1996, 1995, 1994, 1993, 1992, 1991, 1990, 1989, 1988,\n",
       "       1987, 1986, 1985, 1984, 1983])"
      ]
     },
     "execution_count": 12,
     "metadata": {},
     "output_type": "execute_result"
    }
   ],
   "source": [
    "pop_df['date'].unique()"
   ]
  },
  {
   "cell_type": "code",
   "execution_count": 13,
   "id": "78c8d29a",
   "metadata": {},
   "outputs": [],
   "source": [
    "# merge data frames\n",
    "life_pop_df = pd.merge(pop_df, life_df, on=['date','geography','sex'], how='inner')\n",
    "life_pop_eu_df = pd.merge(life_pop_df, eu_df, on='geography', how='left')"
   ]
  },
  {
   "cell_type": "code",
   "execution_count": 14,
   "id": "85581755",
   "metadata": {},
   "outputs": [],
   "source": [
    "life_pop_eu_df = life_pop_eu_df.drop(columns=['unit_x', 'unit_y','statinfo' ])"
   ]
  },
  {
   "cell_type": "code",
   "execution_count": 15,
   "id": "faea4dce",
   "metadata": {},
   "outputs": [
    {
     "data": {
      "text/html": [
       "<div>\n",
       "<style scoped>\n",
       "    .dataframe tbody tr th:only-of-type {\n",
       "        vertical-align: middle;\n",
       "    }\n",
       "\n",
       "    .dataframe tbody tr th {\n",
       "        vertical-align: top;\n",
       "    }\n",
       "\n",
       "    .dataframe thead th {\n",
       "        text-align: right;\n",
       "    }\n",
       "</style>\n",
       "<table border=\"1\" class=\"dataframe\">\n",
       "  <thead>\n",
       "    <tr style=\"text-align: right;\">\n",
       "      <th></th>\n",
       "      <th>sex</th>\n",
       "      <th>age</th>\n",
       "      <th>isced11</th>\n",
       "      <th>geography</th>\n",
       "      <th>date</th>\n",
       "      <th>population_in_THS</th>\n",
       "      <th>age_in_year</th>\n",
       "      <th>country</th>\n",
       "    </tr>\n",
       "  </thead>\n",
       "  <tbody>\n",
       "    <tr>\n",
       "      <th>0</th>\n",
       "      <td>F</td>\n",
       "      <td>Y15-19</td>\n",
       "      <td>ED0-2</td>\n",
       "      <td>AT</td>\n",
       "      <td>2019</td>\n",
       "      <td>149.6</td>\n",
       "      <td>84.2</td>\n",
       "      <td>Austria</td>\n",
       "    </tr>\n",
       "    <tr>\n",
       "      <th>1</th>\n",
       "      <td>F</td>\n",
       "      <td>Y15-19</td>\n",
       "      <td>ED3_4</td>\n",
       "      <td>AT</td>\n",
       "      <td>2019</td>\n",
       "      <td>52.4</td>\n",
       "      <td>84.2</td>\n",
       "      <td>Austria</td>\n",
       "    </tr>\n",
       "    <tr>\n",
       "      <th>2</th>\n",
       "      <td>F</td>\n",
       "      <td>Y15-19</td>\n",
       "      <td>ED5-8</td>\n",
       "      <td>AT</td>\n",
       "      <td>2019</td>\n",
       "      <td>6.9</td>\n",
       "      <td>84.2</td>\n",
       "      <td>Austria</td>\n",
       "    </tr>\n",
       "    <tr>\n",
       "      <th>3</th>\n",
       "      <td>F</td>\n",
       "      <td>Y15-24</td>\n",
       "      <td>ED0-2</td>\n",
       "      <td>AT</td>\n",
       "      <td>2019</td>\n",
       "      <td>173.8</td>\n",
       "      <td>84.2</td>\n",
       "      <td>Austria</td>\n",
       "    </tr>\n",
       "    <tr>\n",
       "      <th>4</th>\n",
       "      <td>F</td>\n",
       "      <td>Y15-24</td>\n",
       "      <td>ED3_4</td>\n",
       "      <td>AT</td>\n",
       "      <td>2019</td>\n",
       "      <td>196.0</td>\n",
       "      <td>84.2</td>\n",
       "      <td>Austria</td>\n",
       "    </tr>\n",
       "  </tbody>\n",
       "</table>\n",
       "</div>"
      ],
      "text/plain": [
       "  sex     age isced11 geography  date  population_in_THS  age_in_year  country\n",
       "0   F  Y15-19   ED0-2        AT  2019              149.6         84.2  Austria\n",
       "1   F  Y15-19   ED3_4        AT  2019               52.4         84.2  Austria\n",
       "2   F  Y15-19   ED5-8        AT  2019                6.9         84.2  Austria\n",
       "3   F  Y15-24   ED0-2        AT  2019              173.8         84.2  Austria\n",
       "4   F  Y15-24   ED3_4        AT  2019              196.0         84.2  Austria"
      ]
     },
     "execution_count": 15,
     "metadata": {},
     "output_type": "execute_result"
    }
   ],
   "source": [
    "life_pop_eu_df = life_pop_eu_df.rename(columns={'value_y': 'age_in_year',\n",
    "                                               'value_x':'population_in_THS',})\n",
    "life_pop_eu_df.head()"
   ]
  },
  {
   "cell_type": "code",
   "execution_count": 16,
   "id": "640849a8",
   "metadata": {},
   "outputs": [
    {
     "data": {
      "text/plain": [
       "array([2019, 2018, 2017, 2016, 2015, 2014, 2013, 2012, 2011, 2010, 2009,\n",
       "       2008])"
      ]
     },
     "execution_count": 16,
     "metadata": {},
     "output_type": "execute_result"
    }
   ],
   "source": [
    "life_pop_eu_df['date'].unique()"
   ]
  },
  {
   "cell_type": "code",
   "execution_count": 17,
   "id": "d84dda78",
   "metadata": {},
   "outputs": [],
   "source": [
    "total_pop_groupby = pd.DataFrame(life_pop_eu_df.groupby(['sex','age', 'geography','date']).sum()['population_in_THS'])\n",
    "total_pop_groupby = total_pop_groupby.rename(columns={'population_in_THS': 'population_total'})"
   ]
  },
  {
   "cell_type": "code",
   "execution_count": 18,
   "id": "d9191d33",
   "metadata": {},
   "outputs": [],
   "source": [
    "life_pop_eu_total_df = pd.merge(life_pop_eu_df, total_pop_groupby, on=['sex', 'age','geography','date'],how='inner')"
   ]
  },
  {
   "cell_type": "code",
   "execution_count": 19,
   "id": "24500246",
   "metadata": {},
   "outputs": [],
   "source": [
    "life_pop_eu_total_df['percentage'] = life_pop_eu_total_df['population_in_THS']/life_pop_eu_total_df['population_total']"
   ]
  },
  {
   "cell_type": "code",
   "execution_count": 21,
   "id": "c91226f7",
   "metadata": {},
   "outputs": [],
   "source": [
    "clean_df = life_pop_eu_total_df"
   ]
  },
  {
   "cell_type": "code",
   "execution_count": 23,
   "id": "efd14c42",
   "metadata": {},
   "outputs": [
    {
     "data": {
      "text/html": [
       "<div>\n",
       "<style scoped>\n",
       "    .dataframe tbody tr th:only-of-type {\n",
       "        vertical-align: middle;\n",
       "    }\n",
       "\n",
       "    .dataframe tbody tr th {\n",
       "        vertical-align: top;\n",
       "    }\n",
       "\n",
       "    .dataframe thead th {\n",
       "        text-align: right;\n",
       "    }\n",
       "</style>\n",
       "<table border=\"1\" class=\"dataframe\">\n",
       "  <thead>\n",
       "    <tr style=\"text-align: right;\">\n",
       "      <th></th>\n",
       "      <th>index</th>\n",
       "      <th>unit</th>\n",
       "      <th>sex</th>\n",
       "      <th>statinfo</th>\n",
       "      <th>geography</th>\n",
       "      <th>date</th>\n",
       "      <th>value</th>\n",
       "    </tr>\n",
       "  </thead>\n",
       "  <tbody>\n",
       "    <tr>\n",
       "      <th>0</th>\n",
       "      <td>0</td>\n",
       "      <td>YR</td>\n",
       "      <td>F</td>\n",
       "      <td>LE_0</td>\n",
       "      <td>AT</td>\n",
       "      <td>2008</td>\n",
       "      <td>83.3</td>\n",
       "    </tr>\n",
       "    <tr>\n",
       "      <th>1</th>\n",
       "      <td>1</td>\n",
       "      <td>YR</td>\n",
       "      <td>F</td>\n",
       "      <td>LE_0</td>\n",
       "      <td>BE</td>\n",
       "      <td>2008</td>\n",
       "      <td>82.6</td>\n",
       "    </tr>\n",
       "    <tr>\n",
       "      <th>2</th>\n",
       "      <td>2</td>\n",
       "      <td>YR</td>\n",
       "      <td>F</td>\n",
       "      <td>LE_0</td>\n",
       "      <td>BG</td>\n",
       "      <td>2008</td>\n",
       "      <td>77.0</td>\n",
       "    </tr>\n",
       "    <tr>\n",
       "      <th>3</th>\n",
       "      <td>3</td>\n",
       "      <td>YR</td>\n",
       "      <td>F</td>\n",
       "      <td>LE_0</td>\n",
       "      <td>CH</td>\n",
       "      <td>2008</td>\n",
       "      <td>84.6</td>\n",
       "    </tr>\n",
       "    <tr>\n",
       "      <th>4</th>\n",
       "      <td>4</td>\n",
       "      <td>YR</td>\n",
       "      <td>F</td>\n",
       "      <td>LE_0</td>\n",
       "      <td>CY</td>\n",
       "      <td>2008</td>\n",
       "      <td>82.9</td>\n",
       "    </tr>\n",
       "  </tbody>\n",
       "</table>\n",
       "</div>"
      ],
      "text/plain": [
       "   index unit sex statinfo geography  date  value\n",
       "0      0   YR   F     LE_0        AT  2008   83.3\n",
       "1      1   YR   F     LE_0        BE  2008   82.6\n",
       "2      2   YR   F     LE_0        BG  2008   77.0\n",
       "3      3   YR   F     LE_0        CH  2008   84.6\n",
       "4      4   YR   F     LE_0        CY  2008   82.9"
      ]
     },
     "execution_count": 23,
     "metadata": {},
     "output_type": "execute_result"
    }
   ],
   "source": [
    "life_df_ana = life_df.reset_index()\n",
    "life_df_ana.head()"
   ]
  },
  {
   "cell_type": "code",
   "execution_count": 57,
   "id": "cb471968",
   "metadata": {},
   "outputs": [
    {
     "data": {
      "text/html": [
       "<div>\n",
       "<style scoped>\n",
       "    .dataframe tbody tr th:only-of-type {\n",
       "        vertical-align: middle;\n",
       "    }\n",
       "\n",
       "    .dataframe tbody tr th {\n",
       "        vertical-align: top;\n",
       "    }\n",
       "\n",
       "    .dataframe thead th {\n",
       "        text-align: right;\n",
       "    }\n",
       "</style>\n",
       "<table border=\"1\" class=\"dataframe\">\n",
       "  <thead>\n",
       "    <tr style=\"text-align: right;\">\n",
       "      <th></th>\n",
       "      <th></th>\n",
       "      <th>mean</th>\n",
       "      <th>median</th>\n",
       "      <th>var</th>\n",
       "      <th>std</th>\n",
       "      <th>sem</th>\n",
       "    </tr>\n",
       "    <tr>\n",
       "      <th>sex</th>\n",
       "      <th>geography</th>\n",
       "      <th></th>\n",
       "      <th></th>\n",
       "      <th></th>\n",
       "      <th></th>\n",
       "      <th></th>\n",
       "    </tr>\n",
       "  </thead>\n",
       "  <tbody>\n",
       "    <tr>\n",
       "      <th rowspan=\"5\" valign=\"top\">F</th>\n",
       "      <th>DE</th>\n",
       "      <td>83.191667</td>\n",
       "      <td>83.10</td>\n",
       "      <td>0.097197</td>\n",
       "      <td>0.311764</td>\n",
       "      <td>0.089999</td>\n",
       "    </tr>\n",
       "    <tr>\n",
       "      <th>NL</th>\n",
       "      <td>83.175000</td>\n",
       "      <td>83.20</td>\n",
       "      <td>0.098409</td>\n",
       "      <td>0.313702</td>\n",
       "      <td>0.090558</td>\n",
       "    </tr>\n",
       "    <tr>\n",
       "      <th>AT</th>\n",
       "      <td>83.775000</td>\n",
       "      <td>83.80</td>\n",
       "      <td>0.105682</td>\n",
       "      <td>0.325087</td>\n",
       "      <td>0.093845</td>\n",
       "    </tr>\n",
       "    <tr>\n",
       "      <th>FR</th>\n",
       "      <td>85.550000</td>\n",
       "      <td>85.65</td>\n",
       "      <td>0.137273</td>\n",
       "      <td>0.370503</td>\n",
       "      <td>0.106955</td>\n",
       "    </tr>\n",
       "    <tr>\n",
       "      <th>IS</th>\n",
       "      <td>84.100000</td>\n",
       "      <td>84.10</td>\n",
       "      <td>0.158182</td>\n",
       "      <td>0.397721</td>\n",
       "      <td>0.114812</td>\n",
       "    </tr>\n",
       "    <tr>\n",
       "      <th>...</th>\n",
       "      <th>...</th>\n",
       "      <td>...</td>\n",
       "      <td>...</td>\n",
       "      <td>...</td>\n",
       "      <td>...</td>\n",
       "      <td>...</td>\n",
       "    </tr>\n",
       "    <tr>\n",
       "      <th rowspan=\"5\" valign=\"top\">M</th>\n",
       "      <th>SK</th>\n",
       "      <td>72.833333</td>\n",
       "      <td>73.00</td>\n",
       "      <td>1.155152</td>\n",
       "      <td>1.074780</td>\n",
       "      <td>0.310262</td>\n",
       "    </tr>\n",
       "    <tr>\n",
       "      <th>MT</th>\n",
       "      <td>79.433333</td>\n",
       "      <td>79.70</td>\n",
       "      <td>1.416970</td>\n",
       "      <td>1.190365</td>\n",
       "      <td>0.343629</td>\n",
       "    </tr>\n",
       "    <tr>\n",
       "      <th>LV</th>\n",
       "      <td>69.008333</td>\n",
       "      <td>69.20</td>\n",
       "      <td>1.506288</td>\n",
       "      <td>1.227309</td>\n",
       "      <td>0.354294</td>\n",
       "    </tr>\n",
       "    <tr>\n",
       "      <th>LT</th>\n",
       "      <td>68.891667</td>\n",
       "      <td>68.85</td>\n",
       "      <td>2.731742</td>\n",
       "      <td>1.652798</td>\n",
       "      <td>0.477122</td>\n",
       "    </tr>\n",
       "    <tr>\n",
       "      <th>EE</th>\n",
       "      <td>72.216667</td>\n",
       "      <td>72.60</td>\n",
       "      <td>2.945152</td>\n",
       "      <td>1.716144</td>\n",
       "      <td>0.495408</td>\n",
       "    </tr>\n",
       "  </tbody>\n",
       "</table>\n",
       "<p>62 rows × 5 columns</p>\n",
       "</div>"
      ],
      "text/plain": [
       "                    mean  median       var       std       sem\n",
       "sex geography                                                 \n",
       "F   DE         83.191667   83.10  0.097197  0.311764  0.089999\n",
       "    NL         83.175000   83.20  0.098409  0.313702  0.090558\n",
       "    AT         83.775000   83.80  0.105682  0.325087  0.093845\n",
       "    FR         85.550000   85.65  0.137273  0.370503  0.106955\n",
       "    IS         84.100000   84.10  0.158182  0.397721  0.114812\n",
       "...                  ...     ...       ...       ...       ...\n",
       "M   SK         72.833333   73.00  1.155152  1.074780  0.310262\n",
       "    MT         79.433333   79.70  1.416970  1.190365  0.343629\n",
       "    LV         69.008333   69.20  1.506288  1.227309  0.354294\n",
       "    LT         68.891667   68.85  2.731742  1.652798  0.477122\n",
       "    EE         72.216667   72.60  2.945152  1.716144  0.495408\n",
       "\n",
       "[62 rows x 5 columns]"
      ]
     },
     "execution_count": 57,
     "metadata": {},
     "output_type": "execute_result"
    }
   ],
   "source": [
    "#statistic description of life expectancy\n",
    "country_lf = life_df_ana.groupby(['sex', 'geography'])['value']\n",
    "country_lf_stat = country_lf.agg(['mean', 'median','var','std','sem']).sort_values(by=['var'])\n",
    "country_lf_stat"
   ]
  },
  {
   "cell_type": "code",
   "execution_count": 36,
   "id": "983d5260",
   "metadata": {
    "scrolled": true
   },
   "outputs": [],
   "source": [
    "# box plot of the life expectancy of Female from 2008-2019\n",
    "lf_female = life_df_ana[life_df_ana['sex']=='F']"
   ]
  },
  {
   "cell_type": "code",
   "execution_count": 67,
   "id": "ada19620",
   "metadata": {},
   "outputs": [
    {
     "data": {
      "image/png": "[encoded data removed]",
      "text/plain": [
       "<Figure size 1080x360 with 1 Axes>"
      ]
     },
     "metadata": {
      "needs_background": "light"
     },
     "output_type": "display_data"
    }
   ],
   "source": [
    "plt.figure(figsize=(15,5))\n",
    "chart = sns.violinplot(x='geography', y='value', data = life_df_ana, width=0.8, hue='sex', split=True)\n",
    "chart.set_xticklabels(chart.get_xticklabels(), rotation=45)\n",
    "chart.legend(loc=3)\n",
    "plt.ylabel('Life Expectancy (unite: year)')\n",
    "plt.xlabel('European Countries')\n",
    "plt.show()"
   ]
  },
  {
   "cell_type": "code",
   "execution_count": 62,
   "id": "f327114b",
   "metadata": {},
   "outputs": [],
   "source": [
    "# box plot of the life expectancy of Male from 2008-2019\n",
    "lf_male = life_df_ana[life_df_ana['sex']=='M']"
   ]
  },
  {
   "cell_type": "code",
   "execution_count": 68,
   "id": "aeabf792",
   "metadata": {},
   "outputs": [
    {
     "data": {
      "image/png": "[encoded data removed]",
      "text/plain": [
       "<Figure size 1080x360 with 1 Axes>"
      ]
     },
     "metadata": {
      "needs_background": "light"
     },
     "output_type": "display_data"
    }
   ],
   "source": [
    "plt.figure(figsize=(15,5))\n",
    "chart = sns.violinplot(x='date', y='value', data = life_df_ana, width=0.8, hue='sex', split=True)\n",
    "chart.set_xticklabels(chart.get_xticklabels())\n",
    "chart.legend(loc=3)\n",
    "plt.ylabel('Life Expectancy (unite: year)')\n",
    "plt.xlabel('European Countries')\n",
    "plt.show()"
   ]
  },
  {
   "cell_type": "code",
   "execution_count": 75,
   "id": "eaa73310",
   "metadata": {},
   "outputs": [],
   "source": [
    "# yw = os.path.join('DataSets', 'complete_dataset.csv')\n",
    "# r_merge_df = pd.read_csv(yw)\n",
    "# r_merge_df.head()"
   ]
  },
  {
   "cell_type": "code",
   "execution_count": null,
   "id": "15c315e9",
   "metadata": {},
   "outputs": [],
   "source": []
  }
 ],
 "metadata": {
  "kernelspec": {
   "display_name": "Python 3",
   "language": "python",
   "name": "python3"
  },
  "language_info": {
   "codemirror_mode": {
    "name": "ipython",
    "version": 3
   },
   "file_extension": ".py",
   "mimetype": "text/x-python",
   "name": "python",
   "nbconvert_exporter": "python",
   "pygments_lexer": "ipython3",
   "version": "3.8.2"
  }
 },
 "nbformat": 4,
 "nbformat_minor": 5
}
