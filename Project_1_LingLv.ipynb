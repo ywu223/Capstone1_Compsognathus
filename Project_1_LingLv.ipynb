{
 "cells": [
  {
   "cell_type": "code",
   "execution_count": 5,
   "id": "716c3b39",
   "metadata": {},
   "outputs": [],
   "source": [
    "# import dependencies\n",
    "import pandas as pd\n",
    "import matplotlib.pyplot as plt\n",
    "import os\n",
    "import scipy.stats as sts"
   ]
  },
  {
   "cell_type": "code",
   "execution_count": 75,
   "id": "0c1ab202",
   "metadata": {},
   "outputs": [],
   "source": [
    "#load data\n",
    "life = os.path.join('DataSets', 'life_expectancy_at_birth.csv')\n",
    "pop = os.path.join('DataSets', 'population_by_education_level.csv')\n",
    "eu = os.path.join('DataSets', 'EU_Country_Codes.csv')\n",
    "\n",
    "life_df = pd.read_csv(life)\n",
    "life_df = life_df.dropna()\n",
    "\n",
    "pop_df = pd.read_csv(pop)\n",
    "pop_df = pop_df.dropna()\n",
    "\n",
    "eu_df = pd.read_csv(eu,names=['geography','country'], header = None)"
   ]
  },
  {
   "cell_type": "code",
   "execution_count": 76,
   "id": "46cbe971",
   "metadata": {
    "scrolled": false
   },
   "outputs": [
    {
     "data": {
      "text/html": [
       "<div>\n",
       "<style scoped>\n",
       "    .dataframe tbody tr th:only-of-type {\n",
       "        vertical-align: middle;\n",
       "    }\n",
       "\n",
       "    .dataframe tbody tr th {\n",
       "        vertical-align: top;\n",
       "    }\n",
       "\n",
       "    .dataframe thead th {\n",
       "        text-align: right;\n",
       "    }\n",
       "</style>\n",
       "<table border=\"1\" class=\"dataframe\">\n",
       "  <thead>\n",
       "    <tr style=\"text-align: right;\">\n",
       "      <th></th>\n",
       "      <th>unit</th>\n",
       "      <th>sex</th>\n",
       "      <th>statinfo</th>\n",
       "      <th>geography</th>\n",
       "      <th>date</th>\n",
       "      <th>value</th>\n",
       "    </tr>\n",
       "  </thead>\n",
       "  <tbody>\n",
       "    <tr>\n",
       "      <th>0</th>\n",
       "      <td>YR</td>\n",
       "      <td>F</td>\n",
       "      <td>LE_0</td>\n",
       "      <td>AT</td>\n",
       "      <td>2008</td>\n",
       "      <td>83.3</td>\n",
       "    </tr>\n",
       "  </tbody>\n",
       "</table>\n",
       "</div>"
      ],
      "text/plain": [
       "  unit sex statinfo geography  date  value\n",
       "0   YR   F     LE_0        AT  2008   83.3"
      ]
     },
     "execution_count": 76,
     "metadata": {},
     "output_type": "execute_result"
    }
   ],
   "source": [
    "life_df.head(1)"
   ]
  },
  {
   "cell_type": "code",
   "execution_count": 79,
   "id": "ac2bec5c",
   "metadata": {},
   "outputs": [
    {
     "data": {
      "text/plain": [
       "array(['F', 'M'], dtype=object)"
      ]
     },
     "execution_count": 79,
     "metadata": {},
     "output_type": "execute_result"
    }
   ],
   "source": [
    "life_df['sex'].unique()"
   ]
  },
  {
   "cell_type": "code",
   "execution_count": 82,
   "id": "4974439c",
   "metadata": {},
   "outputs": [
    {
     "data": {
      "text/plain": [
       "array([2008, 2009, 2010, 2011, 2012, 2013, 2014, 2015, 2016, 2017, 2018,\n",
       "       2019])"
      ]
     },
     "execution_count": 82,
     "metadata": {},
     "output_type": "execute_result"
    }
   ],
   "source": [
    "life_df['date'].unique()"
   ]
  },
  {
   "cell_type": "code",
   "execution_count": 80,
   "id": "56600ad1",
   "metadata": {},
   "outputs": [
    {
     "data": {
      "text/plain": [
       "array(['F', 'M', 'T'], dtype=object)"
      ]
     },
     "execution_count": 80,
     "metadata": {},
     "output_type": "execute_result"
    }
   ],
   "source": [
    "pop_df['sex'].unique()"
   ]
  },
  {
   "cell_type": "code",
   "execution_count": 81,
   "id": "88c3692b",
   "metadata": {},
   "outputs": [
    {
     "data": {
      "text/plain": [
       "array(['F', 'M'], dtype=object)"
      ]
     },
     "execution_count": 81,
     "metadata": {},
     "output_type": "execute_result"
    }
   ],
   "source": [
    "# drop rows with sex ==T\n",
    "pop_df = pop_df.drop(pop_df[pop_df['sex']=='T'].index).reset_index()\n",
    "pop_df['sex'].unique()"
   ]
  },
  {
   "cell_type": "code",
   "execution_count": 83,
   "id": "73e78759",
   "metadata": {},
   "outputs": [
    {
     "data": {
      "text/plain": [
       "array([2020, 2019, 2018, 2017, 2016, 2015, 2014, 2013, 2012, 2011, 2010,\n",
       "       2009, 2008, 2007, 2006, 2005, 2004, 2003, 2002, 2001, 2000, 1999,\n",
       "       1998, 1997, 1996, 1995, 1994, 1993, 1992, 1991, 1990, 1989, 1988,\n",
       "       1987, 1986, 1985, 1984, 1983])"
      ]
     },
     "execution_count": 83,
     "metadata": {},
     "output_type": "execute_result"
    }
   ],
   "source": [
    "pop_df['date'].unique()"
   ]
  },
  {
   "cell_type": "code",
   "execution_count": 89,
   "id": "78c8d29a",
   "metadata": {},
   "outputs": [
    {
     "data": {
      "text/html": [
       "<div>\n",
       "<style scoped>\n",
       "    .dataframe tbody tr th:only-of-type {\n",
       "        vertical-align: middle;\n",
       "    }\n",
       "\n",
       "    .dataframe tbody tr th {\n",
       "        vertical-align: top;\n",
       "    }\n",
       "\n",
       "    .dataframe thead th {\n",
       "        text-align: right;\n",
       "    }\n",
       "</style>\n",
       "<table border=\"1\" class=\"dataframe\">\n",
       "  <thead>\n",
       "    <tr style=\"text-align: right;\">\n",
       "      <th></th>\n",
       "      <th>unit_age</th>\n",
       "      <th>sex_age</th>\n",
       "      <th>statinfo</th>\n",
       "      <th>geography</th>\n",
       "      <th>date</th>\n",
       "      <th>value_age</th>\n",
       "      <th>index</th>\n",
       "      <th>unit_population</th>\n",
       "      <th>sex_population</th>\n",
       "      <th>age</th>\n",
       "      <th>isced11</th>\n",
       "      <th>value_population</th>\n",
       "      <th>country</th>\n",
       "    </tr>\n",
       "  </thead>\n",
       "  <tbody>\n",
       "    <tr>\n",
       "      <th>0</th>\n",
       "      <td>YR</td>\n",
       "      <td>F</td>\n",
       "      <td>LE_0</td>\n",
       "      <td>AT</td>\n",
       "      <td>2008</td>\n",
       "      <td>83.3</td>\n",
       "      <td>192624</td>\n",
       "      <td>THS</td>\n",
       "      <td>F</td>\n",
       "      <td>Y15-19</td>\n",
       "      <td>ED0-2</td>\n",
       "      <td>198.2</td>\n",
       "      <td>Austria</td>\n",
       "    </tr>\n",
       "  </tbody>\n",
       "</table>\n",
       "</div>"
      ],
      "text/plain": [
       "  unit_age sex_age statinfo geography  date  value_age   index  \\\n",
       "0       YR       F     LE_0        AT  2008       83.3  192624   \n",
       "\n",
       "  unit_population sex_population     age isced11  value_population  country  \n",
       "0             THS              F  Y15-19   ED0-2             198.2  Austria  "
      ]
     },
     "execution_count": 89,
     "metadata": {},
     "output_type": "execute_result"
    }
   ],
   "source": [
    "# merge data frames\n",
    "life_pop_df = pd.merge(life_df, pop_df, on=['date','geography',], how='inner')\n",
    "life_pop_eu_df = pd.merge(life_pop_df, eu_df, on='geography', how='left')\n",
    "life_pop_eu_df = life_pop_eu_df.rename(columns={'unit_x': 'unit_age',\n",
    "                                               'unit_y':'unit_population',\n",
    "                                               'value_x': 'value_age',\n",
    "                                               'value_y':'value_population',\n",
    "                                               'sex_x': 'sex_age',\n",
    "                                               'sex_y': 'sex_population'})\n",
    "life_pop_eu_df.head(1)"
   ]
  },
  {
   "cell_type": "code",
   "execution_count": 90,
   "id": "640849a8",
   "metadata": {},
   "outputs": [
    {
     "data": {
      "text/plain": [
       "array([2008, 2009, 2010, 2011, 2012, 2013, 2014, 2015, 2016, 2017, 2018,\n",
       "       2019])"
      ]
     },
     "execution_count": 90,
     "metadata": {},
     "output_type": "execute_result"
    }
   ],
   "source": [
    "life_pop_eu_df['date'].unique()"
   ]
  },
  {
   "cell_type": "code",
   "execution_count": 91,
   "id": "f7c854c3",
   "metadata": {},
   "outputs": [
    {
     "data": {
      "text/plain": [
       "array(['F', 'M'], dtype=object)"
      ]
     },
     "execution_count": 91,
     "metadata": {},
     "output_type": "execute_result"
    }
   ],
   "source": [
    "life_pop_eu_df['sex_age'].unique()"
   ]
  },
  {
   "cell_type": "code",
   "execution_count": 92,
   "id": "58f08ada",
   "metadata": {},
   "outputs": [
    {
     "data": {
      "text/plain": [
       "array(['F', 'M'], dtype=object)"
      ]
     },
     "execution_count": 92,
     "metadata": {},
     "output_type": "execute_result"
    }
   ],
   "source": [
    "life_pop_eu_df['sex_population'].unique()"
   ]
  },
  {
   "cell_type": "code",
   "execution_count": 93,
   "id": "caecaa40",
   "metadata": {},
   "outputs": [
    {
     "data": {
      "text/html": [
       "<div>\n",
       "<style scoped>\n",
       "    .dataframe tbody tr th:only-of-type {\n",
       "        vertical-align: middle;\n",
       "    }\n",
       "\n",
       "    .dataframe tbody tr th {\n",
       "        vertical-align: top;\n",
       "    }\n",
       "\n",
       "    .dataframe thead th {\n",
       "        text-align: right;\n",
       "    }\n",
       "</style>\n",
       "<table border=\"1\" class=\"dataframe\">\n",
       "  <thead>\n",
       "    <tr style=\"text-align: right;\">\n",
       "      <th></th>\n",
       "      <th>unit_age</th>\n",
       "      <th>sex_age</th>\n",
       "      <th>statinfo</th>\n",
       "      <th>geography</th>\n",
       "      <th>date</th>\n",
       "      <th>value_age</th>\n",
       "      <th>index</th>\n",
       "      <th>unit_population</th>\n",
       "      <th>sex_population</th>\n",
       "      <th>age</th>\n",
       "      <th>isced11</th>\n",
       "      <th>value_population</th>\n",
       "      <th>country</th>\n",
       "    </tr>\n",
       "  </thead>\n",
       "  <tbody>\n",
       "    <tr>\n",
       "      <th>0</th>\n",
       "      <td>YR</td>\n",
       "      <td>F</td>\n",
       "      <td>LE_0</td>\n",
       "      <td>AT</td>\n",
       "      <td>2008</td>\n",
       "      <td>83.3</td>\n",
       "      <td>192624</td>\n",
       "      <td>THS</td>\n",
       "      <td>F</td>\n",
       "      <td>Y15-19</td>\n",
       "      <td>ED0-2</td>\n",
       "      <td>198.2</td>\n",
       "      <td>Austria</td>\n",
       "    </tr>\n",
       "    <tr>\n",
       "      <th>1</th>\n",
       "      <td>YR</td>\n",
       "      <td>F</td>\n",
       "      <td>LE_0</td>\n",
       "      <td>AT</td>\n",
       "      <td>2008</td>\n",
       "      <td>83.3</td>\n",
       "      <td>192663</td>\n",
       "      <td>THS</td>\n",
       "      <td>F</td>\n",
       "      <td>Y15-19</td>\n",
       "      <td>ED3_4</td>\n",
       "      <td>44.0</td>\n",
       "      <td>Austria</td>\n",
       "    </tr>\n",
       "    <tr>\n",
       "      <th>2</th>\n",
       "      <td>YR</td>\n",
       "      <td>F</td>\n",
       "      <td>LE_0</td>\n",
       "      <td>AT</td>\n",
       "      <td>2008</td>\n",
       "      <td>83.3</td>\n",
       "      <td>192764</td>\n",
       "      <td>THS</td>\n",
       "      <td>F</td>\n",
       "      <td>Y15-19</td>\n",
       "      <td>TOTAL</td>\n",
       "      <td>242.4</td>\n",
       "      <td>Austria</td>\n",
       "    </tr>\n",
       "    <tr>\n",
       "      <th>3</th>\n",
       "      <td>YR</td>\n",
       "      <td>F</td>\n",
       "      <td>LE_0</td>\n",
       "      <td>AT</td>\n",
       "      <td>2008</td>\n",
       "      <td>83.3</td>\n",
       "      <td>192803</td>\n",
       "      <td>THS</td>\n",
       "      <td>F</td>\n",
       "      <td>Y15-24</td>\n",
       "      <td>ED0-2</td>\n",
       "      <td>236.8</td>\n",
       "      <td>Austria</td>\n",
       "    </tr>\n",
       "    <tr>\n",
       "      <th>4</th>\n",
       "      <td>YR</td>\n",
       "      <td>F</td>\n",
       "      <td>LE_0</td>\n",
       "      <td>AT</td>\n",
       "      <td>2008</td>\n",
       "      <td>83.3</td>\n",
       "      <td>192842</td>\n",
       "      <td>THS</td>\n",
       "      <td>F</td>\n",
       "      <td>Y15-24</td>\n",
       "      <td>ED3_4</td>\n",
       "      <td>247.4</td>\n",
       "      <td>Austria</td>\n",
       "    </tr>\n",
       "  </tbody>\n",
       "</table>\n",
       "</div>"
      ],
      "text/plain": [
       "  unit_age sex_age statinfo geography  date  value_age   index  \\\n",
       "0       YR       F     LE_0        AT  2008       83.3  192624   \n",
       "1       YR       F     LE_0        AT  2008       83.3  192663   \n",
       "2       YR       F     LE_0        AT  2008       83.3  192764   \n",
       "3       YR       F     LE_0        AT  2008       83.3  192803   \n",
       "4       YR       F     LE_0        AT  2008       83.3  192842   \n",
       "\n",
       "  unit_population sex_population     age isced11  value_population  country  \n",
       "0             THS              F  Y15-19   ED0-2             198.2  Austria  \n",
       "1             THS              F  Y15-19   ED3_4              44.0  Austria  \n",
       "2             THS              F  Y15-19   TOTAL             242.4  Austria  \n",
       "3             THS              F  Y15-24   ED0-2             236.8  Austria  \n",
       "4             THS              F  Y15-24   ED3_4             247.4  Austria  "
      ]
     },
     "execution_count": 93,
     "metadata": {},
     "output_type": "execute_result"
    }
   ],
   "source": [
    "life_pop_eu_df.head()"
   ]
  },
  {
   "cell_type": "code",
   "execution_count": 94,
   "id": "1fd3b89b",
   "metadata": {},
   "outputs": [
    {
     "data": {
      "text/plain": [
       "(213068, 13)"
      ]
     },
     "execution_count": 94,
     "metadata": {},
     "output_type": "execute_result"
    }
   ],
   "source": [
    "life_pop_eu_df.shape"
   ]
  },
  {
   "cell_type": "code",
   "execution_count": null,
   "id": "d84dda78",
   "metadata": {},
   "outputs": [],
   "source": []
  }
 ],
 "metadata": {
  "kernelspec": {
   "display_name": "Python 3",
   "language": "python",
   "name": "python3"
  },
  "language_info": {
   "codemirror_mode": {
    "name": "ipython",
    "version": 3
   },
   "file_extension": ".py",
   "mimetype": "text/x-python",
   "name": "python",
   "nbconvert_exporter": "python",
   "pygments_lexer": "ipython3",
   "version": "3.8.2"
  }
 },
 "nbformat": 4,
 "nbformat_minor": 5
}
